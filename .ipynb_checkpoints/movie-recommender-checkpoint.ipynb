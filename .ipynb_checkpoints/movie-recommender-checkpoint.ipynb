{
 "cells": [
  {
   "cell_type": "code",
   "execution_count": 1,
   "metadata": {},
   "outputs": [],
   "source": [
    "\"\"\"\n",
    "Movie Recommender AI using Naive Bayes \n",
    "\"\"\"\n",
    "\n",
    "import numpy as np\n",
    "from collections import defaultdict\n",
    "\n",
    "data_path = 'movie-dataset/ratings.csv'\n",
    "n_users = 671\n",
    "n_movies = 9125"
   ]
  },
  {
   "cell_type": "code",
   "execution_count": 2,
   "metadata": {},
   "outputs": [],
   "source": [
    "def load_rating_data(data_path, n_users, n_movies):\n",
    "    \"\"\"\n",
    "    Load rating data from file and also return the number of\n",
    "    ratings for each movie and movie_id index mapping\n",
    "    @param data_path: path of the rating data file\n",
    "    @param n_users: number of users\n",
    "    @param n_movies: number of movies that have ratings\n",
    "    @return: rating data in the numpy array of [user, movie];\n",
    "            movie_n_rating, {movie_id: number of ratings};\n",
    "            movie_id_mapping, {movie_id: column index in\n",
    "            rating data}\n",
    "    \"\"\"\n",
    "    data = np.zeros([n_users, n_movies], dtype=np.float32)\n",
    "    movie_id_mapping = {}\n",
    "    movie_n_rating = defaultdict(int)\n",
    "    with open(data_path, 'r') as file:\n",
    "        for line in file.readlines()[1:]:\n",
    "            user_id, movie_id, rating, _ = line.split(',')\n",
    "            user_id = int(user_id) - 1\n",
    "            if movie_id not in movie_id_mapping:\n",
    "                movie_id_mapping[movie_id] = len(movie_id_mapping)\n",
    "            rating = int(float(rating))\n",
    "            data[user_id, movie_id_mapping[movie_id]] = rating\n",
    "            if rating > 0:\n",
    "                movie_n_rating[movie_id] += 1\n",
    "    return data, movie_n_rating, movie_id_mapping"
   ]
  },
  {
   "cell_type": "code",
   "execution_count": 3,
   "metadata": {},
   "outputs": [],
   "source": [
    "data, movie_n_rating, movie_id_mapping = load_rating_data(data_path, n_users, n_movies)"
   ]
  },
  {
   "cell_type": "code",
   "execution_count": 4,
   "metadata": {},
   "outputs": [
    {
     "name": "stdout",
     "output_type": "stream",
     "text": [
      "Number of rating 0: 6023972\n",
      "Number of rating 1: 5013\n",
      "Number of rating 2: 11720\n",
      "Number of rating 3: 30602\n",
      "Number of rating 4: 36473\n",
      "Number of rating 5: 15095\n"
     ]
    }
   ],
   "source": [
    "# Check the data distribution\n",
    "def display_distribution(data):\n",
    "    values, counts = np.unique(data, return_counts=True)\n",
    "    for value, count in zip(values, counts):\n",
    "        print(f\"Number of rating {int(value)}: {count}\")\n",
    "\n",
    "display_distribution(data)"
   ]
  },
  {
   "cell_type": "code",
   "execution_count": 5,
   "metadata": {},
   "outputs": [
    {
     "name": "stdout",
     "output_type": "stream",
     "text": [
      "Movie ID 356 has 341 ratings.\n"
     ]
    }
   ],
   "source": [
    "# Take movie with highest known rating as target movie\n",
    "movie_id_most, n_rating_most = sorted(movie_n_rating.items(), key=lambda d: d[1], reverse=True)[0]\n",
    "print(f\"Movie ID {movie_id_most} has {n_rating_most} ratings.\")"
   ]
  },
  {
   "cell_type": "code",
   "execution_count": 6,
   "metadata": {},
   "outputs": [],
   "source": [
    "# Remove target movie from the signals\n",
    "X_raw = np.delete(data, movie_id_mapping[movie_id_most], axis = 1)\n",
    "Y_raw = data[:, movie_id_mapping[movie_id_most]]"
   ]
  },
  {
   "cell_type": "code",
   "execution_count": 7,
   "metadata": {},
   "outputs": [
    {
     "name": "stdout",
     "output_type": "stream",
     "text": [
      "Shape of X: (341, 9124)\n",
      "Shape of Y: (341,)\n"
     ]
    }
   ],
   "source": [
    "# Discard sample without a rating\n",
    "X = X_raw[Y_raw > 0]\n",
    "Y = Y_raw[Y_raw > 0]\n",
    "\n",
    "# Check\n",
    "print(f\"Shape of X: {X.shape}\")\n",
    "print(f\"Shape of Y: {Y.shape}\")"
   ]
  },
  {
   "cell_type": "code",
   "execution_count": 8,
   "metadata": {},
   "outputs": [
    {
     "name": "stdout",
     "output_type": "stream",
     "text": [
      "Number of rating 1: 5\n",
      "Number of rating 2: 16\n",
      "Number of rating 3: 69\n",
      "Number of rating 4: 149\n",
      "Number of rating 5: 102\n"
     ]
    }
   ],
   "source": [
    "# Distribution of target movie ratings\n",
    "display_distribution(Y)"
   ]
  },
  {
   "cell_type": "code",
   "execution_count": 9,
   "metadata": {},
   "outputs": [
    {
     "name": "stdout",
     "output_type": "stream",
     "text": [
      "251 positive samples and 90 negative samples.\n"
     ]
    }
   ],
   "source": [
    "# Consider movies with ratings greater than 3 as being liked\n",
    "recommend = 3\n",
    "Y[Y <= recommend] = 0\n",
    "Y[Y > recommend] = 1\n",
    "n_pos = (Y == 1).sum()\n",
    "n_neg = (Y == 0).sum()\n",
    "\n",
    "# Always analyze the label distribution and see how balanced the dataset is\n",
    "# in solving classification problems\n",
    "\n",
    "print(f\"{n_pos} positive samples and {n_neg} negative samples.\")"
   ]
  },
  {
   "cell_type": "code",
   "execution_count": 10,
   "metadata": {},
   "outputs": [
    {
     "name": "stdout",
     "output_type": "stream",
     "text": [
      "272 69\n"
     ]
    }
   ],
   "source": [
    "from sklearn.model_selection import train_test_split\n",
    "X_train, X_test, Y_train, Y_test = train_test_split(X, Y, test_size=0.2, random_state=42)\n",
    "\n",
    "# Check tranining and testing size\n",
    "print(len(Y_train), len(Y_test))"
   ]
  },
  {
   "cell_type": "code",
   "execution_count": 11,
   "metadata": {},
   "outputs": [
    {
     "name": "stdout",
     "output_type": "stream",
     "text": [
      "[[2.98656769e-001 7.01343231e-001]\n",
      " [1.00000000e+000 3.34643691e-106]\n",
      " [3.61589763e-001 6.38410237e-001]\n",
      " [4.79228837e-071 1.00000000e+000]\n",
      " [3.47883427e-046 1.00000000e+000]\n",
      " [5.37136821e-012 1.00000000e+000]\n",
      " [5.56623948e-063 1.00000000e+000]\n",
      " [1.61299204e-060 1.00000000e+000]\n",
      " [3.27810509e-020 1.00000000e+000]\n",
      " [9.09364919e-033 1.00000000e+000]]\n"
     ]
    }
   ],
   "source": [
    "# Use multinomial naive bayes\n",
    "# because input features are 0 to 5 instead of 0 / 1\n",
    "from sklearn.naive_bayes import MultinomialNB\n",
    "\n",
    "clf = MultinomialNB(alpha=1.0, fit_prior=True)\n",
    "clf.fit(X_train, Y_train)\n",
    "\n",
    "# Make prediction\n",
    "prediction_prob = clf.predict_proba(X_test)\n",
    "print(prediction_prob[:10])"
   ]
  },
  {
   "cell_type": "code",
   "execution_count": 12,
   "metadata": {},
   "outputs": [
    {
     "name": "stdout",
     "output_type": "stream",
     "text": [
      "[1. 0. 1. 1. 1. 1. 1. 1. 1. 1.]\n"
     ]
    }
   ],
   "source": [
    "prediction = clf.predict(X_test)\n",
    "print(prediction[:10])"
   ]
  },
  {
   "cell_type": "code",
   "execution_count": 13,
   "metadata": {},
   "outputs": [
    {
     "name": "stdout",
     "output_type": "stream",
     "text": [
      "The accuracy is: 69.6%\n"
     ]
    }
   ],
   "source": [
    "accuracy = clf.score(X_test, Y_test)\n",
    "print(f\"The accuracy is: {accuracy*100:.1f}%\")"
   ]
  },
  {
   "cell_type": "code",
   "execution_count": 14,
   "metadata": {},
   "outputs": [
    {
     "name": "stdout",
     "output_type": "stream",
     "text": [
      "[[ 4 15]\n",
      " [ 6 44]]\n"
     ]
    }
   ],
   "source": [
    "# Evaluating Classification Performance\n",
    "# Other than accuracy, we can use:\n",
    "# confusion matrix\n",
    "# recall\n",
    "# F1 score\n",
    "# Area under the curve\n",
    "\n",
    "# Confusion matrix\n",
    "from sklearn.metrics import confusion_matrix\n",
    "print(confusion_matrix(Y_test, prediction, labels=[0, 1]))"
   ]
  },
  {
   "cell_type": "code",
   "execution_count": 15,
   "metadata": {},
   "outputs": [],
   "source": [
    "# 4 true negative cases where the model correctly identify dislike\n",
    "# 15 false positive cases where the model misinterprets a dislike as a like\n",
    "# 6 false negative cases where the model fails to detect a like for a movie\n",
    "# 44 true positive cases where the model correctly identify like\n",
    "\n",
    "# Classification accuracy is proportion of all true cases:\n",
    "# (TN + TP) / (TN + FN + TP + FP)\n",
    "# (4 + 44) / (4 + 6 + 15 + 44)\n",
    "# 69.6%\n",
    "\n",
    "# Precision measures the fraction of positive calls that are correct\n",
    "# TP / (TP + FP)\n",
    "# 44 / (44 + 15)\n",
    "# 74.6%\n",
    "\n",
    "# Recall (true positive rate) measures the fraction of true positives that are correctly identified\n",
    "# TP / (TP + FN)\n",
    "# 44 / (44 + 6)\n",
    "# 88%\n",
    "\n",
    "# F1 score includes both precision and recall\n",
    "# equates to their harmonic mean\n",
    "# f1 = 2 * (precision*recall / (precision+recall))"
   ]
  },
  {
   "cell_type": "code",
   "execution_count": 16,
   "metadata": {},
   "outputs": [
    {
     "data": {
      "text/plain": [
       "0.7457627118644068"
      ]
     },
     "execution_count": 16,
     "metadata": {},
     "output_type": "execute_result"
    }
   ],
   "source": [
    "from sklearn.metrics import precision_score, recall_score, f1_score\n",
    "\n",
    "precision_score(Y_test, prediction, pos_label=1)"
   ]
  },
  {
   "cell_type": "code",
   "execution_count": 17,
   "metadata": {},
   "outputs": [
    {
     "data": {
      "text/plain": [
       "0.88"
      ]
     },
     "execution_count": 17,
     "metadata": {},
     "output_type": "execute_result"
    }
   ],
   "source": [
    "recall_score(Y_test, prediction, pos_label=1)"
   ]
  },
  {
   "cell_type": "code",
   "execution_count": 18,
   "metadata": {},
   "outputs": [
    {
     "data": {
      "text/plain": [
       "0.8073394495412843"
      ]
     },
     "execution_count": 18,
     "metadata": {},
     "output_type": "execute_result"
    }
   ],
   "source": [
    "f1_score(Y_test, prediction, pos_label=1)"
   ]
  },
  {
   "cell_type": "code",
   "execution_count": 19,
   "metadata": {},
   "outputs": [
    {
     "data": {
      "text/plain": [
       "0.27586206896551724"
      ]
     },
     "execution_count": 19,
     "metadata": {},
     "output_type": "execute_result"
    }
   ],
   "source": [
    "# On the other hand, negative class can also be viewed as positive, depending on the context\n",
    "f1_score(Y_test, prediction, pos_label=0)"
   ]
  },
  {
   "cell_type": "code",
   "execution_count": 20,
   "metadata": {},
   "outputs": [
    {
     "name": "stdout",
     "output_type": "stream",
     "text": [
      "              precision    recall  f1-score   support\n",
      "\n",
      "         0.0       0.40      0.21      0.28        19\n",
      "         1.0       0.75      0.88      0.81        50\n",
      "\n",
      "    accuracy                           0.70        69\n",
      "   macro avg       0.57      0.55      0.54        69\n",
      "weighted avg       0.65      0.70      0.66        69\n",
      "\n"
     ]
    }
   ],
   "source": [
    "# Shorthand\n",
    "from sklearn.metrics import classification_report\n",
    "\n",
    "report = classification_report(Y_test, prediction)\n",
    "print(report)"
   ]
  },
  {
   "cell_type": "code",
   "execution_count": 21,
   "metadata": {},
   "outputs": [],
   "source": [
    "# Receiver operating characteristics (ROC)\n",
    "pos_prob = prediction_prob[:, 1]\n",
    "tresholds = np.arange(0.0, 1.1, 0.05)\n",
    "true_pos, false_pos = [0]*len(tresholds), [0]*len(tresholds)\n",
    "for pred, y in zip(pos_prob, Y_test):\n",
    "    for i, treshold in enumerate(tresholds):\n",
    "        if pred >= treshold:\n",
    "            # if truth and prediction are both 1\n",
    "            if y == 1:\n",
    "                true_pos[i] += 1\n",
    "            # if truth is 0 while prediction is 1\n",
    "            else:\n",
    "                false_pos[i] += 1\n",
    "        else:\n",
    "            break\n",
    "\n",
    "n_pos_test = (Y_test == 1).sum()\n",
    "n_neg_test = (Y_test == 0).sum()\n",
    "true_pos_rate = [tp / n_pos_test for tp in true_pos]\n",
    "false_pos_rate = [fp / n_neg_test for fp in false_pos]"
   ]
  },
  {
   "cell_type": "code",
   "execution_count": 22,
   "metadata": {},
   "outputs": [
    {
     "name": "stderr",
     "output_type": "stream",
     "text": [
      "No handles with labels found to put in legend.\n"
     ]
    },
    {
     "data": {
      "image/png": "[encoded data removed]",
      "text/plain": [
       "<Figure size 432x288 with 1 Axes>"
      ]
     },
     "metadata": {
      "needs_background": "light"
     },
     "output_type": "display_data"
    }
   ],
   "source": [
    "import matplotlib.pyplot as plt\n",
    "\n",
    "plt.figure()\n",
    "lw = 2\n",
    "plt.plot(false_pos_rate, true_pos_rate, color='darkorange', lw=lw)\n",
    "plt.plot([0, 1], [0, 1], color='navy', lw=lw, linestyle='--')\n",
    "plt.xlim([0.0, 1.0])\n",
    "plt.ylim([0.0, 1.05])\n",
    "plt.xlabel('False Positive Rate')\n",
    "plt.ylabel('True Positive Rate')\n",
    "plt.title('Receiver Operating Characteristics')\n",
    "plt.legend(loc='lower right')\n",
    "plt.show()"
   ]
  },
  {
   "cell_type": "code",
   "execution_count": 23,
   "metadata": {},
   "outputs": [
    {
     "data": {
      "text/plain": [
       "0.5442105263157895"
      ]
     },
     "execution_count": 23,
     "metadata": {},
     "output_type": "execute_result"
    }
   ],
   "source": [
    "# Compute area under curve\n",
    "from sklearn.metrics import roc_auc_score\n",
    "\n",
    "roc_auc_score(Y_test, pos_prob)"
   ]
  },
  {
   "cell_type": "code",
   "execution_count": 24,
   "metadata": {},
   "outputs": [],
   "source": [
    "# What AUC value leads to the conclusion that a classifier is good?\n",
    "# Unfortunately, there is no such \"magic\" number. We use the\n",
    "# following rule of thumb as general guidelines: classification models\n",
    "# achieving an AUC of 0.7 to 0.8 are considered acceptable, 0.8 to 0.9\n",
    "# are great, and anything above 0.9 are superb. Again, in our case,\n",
    "# we are only using the very sparse movie rating data. Hence, an\n",
    "# AUC of 0.69 is actually acceptable."
   ]
  },
  {
   "cell_type": "code",
   "execution_count": 25,
   "metadata": {},
   "outputs": [],
   "source": [
    "# K-fold cross validation\n",
    "from sklearn.model_selection import StratifiedKFold\n",
    "k = 5\n",
    "k_fold = StratifiedKFold(n_splits=k, random_state=42, shuffle=True)"
   ]
  },
  {
   "cell_type": "code",
   "execution_count": 26,
   "metadata": {},
   "outputs": [
    {
     "name": "stdout",
     "output_type": "stream",
     "text": [
      "\t1\tTrue\t0.57792\n",
      "\t1\tFalse\t0.57658\n",
      "\t2\tTrue\t0.56252\n",
      "\t2\tFalse\t0.57411\n",
      "\t3\tTrue\t0.53393\n",
      "\t3\tFalse\t0.53393\n",
      "\t4\tTrue\t0.54367\n",
      "\t4\tFalse\t0.54178\n",
      "\t5\tTrue\t0.54463\n",
      "\t5\tFalse\t0.54897\n",
      "\t6\tTrue\t0.53541\n",
      "\t6\tFalse\t0.53541\n"
     ]
    }
   ],
   "source": [
    "smoothing_factor_option = [1, 2, 3, 4, 5, 6]\n",
    "fit_prior_option = [True, False]\n",
    "auc_record = {}\n",
    "\n",
    "# for each fold generated by the split() method of the k_fold object, we\n",
    "# repeat the process of classifier initialization, training, and prediction with one of the\n",
    "# aforementioned combinations of parameters, and record the resulting AUCs\n",
    "\n",
    "for train_indices, test_indices in k_fold.split(X, Y):\n",
    "    X_train, X_test = X[train_indices], X[test_indices]\n",
    "    Y_train, Y_test = Y[train_indices], Y[test_indices]\n",
    "    for alpha in smoothing_factor_option:\n",
    "        if alpha not in auc_record:\n",
    "            auc_record[alpha] = {}\n",
    "        for fit_prior in  fit_prior_option:\n",
    "            clf = MultinomialNB(alpha=alpha, fit_prior=fit_prior)\n",
    "            clf.fit(X_train, Y_train)\n",
    "            prediction_prob = clf.predict_proba(X_test)\n",
    "            pos_prob = prediction_prob[:, 1]\n",
    "            auc = roc_auc_score(Y_test, pos_prob)\n",
    "            \n",
    "            auc_record[alpha][fit_prior] = auc + auc_record[alpha].get(fit_prior, 0.0)\n",
    "\n",
    "for smoothing, smoothing_record in auc_record.items():\n",
    "    for fit_prior, auc in smoothing_record.items():\n",
    "        print(f\"\\t{smoothing}\\t{fit_prior}\\t{auc/k:.5f}\")"
   ]
  },
  {
   "cell_type": "code",
   "execution_count": 27,
   "metadata": {},
   "outputs": [
    {
     "name": "stdout",
     "output_type": "stream",
     "text": [
      "AUC with the best model:  0.6066666666666667\n"
     ]
    }
   ],
   "source": [
    "# alpha 1 with fit_prior = True has the best AUC\n",
    "\n",
    "clf = MultinomialNB(alpha=1, fit_prior=True)\n",
    "clf.fit(X_train, Y_train)\n",
    "prediction_prob = clf.predict_proba(X_test)\n",
    "pos_prob = prediction_prob[:, 1]\n",
    "\n",
    "print(\"AUC with the best model: \", roc_auc_score(Y_test, pos_prob))"
   ]
  },
  {
   "cell_type": "code",
   "execution_count": null,
   "metadata": {},
   "outputs": [],
   "source": []
  }
 ],
 "metadata": {
  "kernelspec": {
   "display_name": "Python 3",
   "language": "python",
   "name": "python3"
  },
  "language_info": {
   "codemirror_mode": {
    "name": "ipython",
    "version": 3
   },
   "file_extension": ".py",
   "mimetype": "text/x-python",
   "name": "python",
   "nbconvert_exporter": "python",
   "pygments_lexer": "ipython3",
   "version": "3.7.6"
  }
 },
 "nbformat": 4,
 "nbformat_minor": 4
}
