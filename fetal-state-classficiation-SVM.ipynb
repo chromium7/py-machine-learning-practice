{
 "cells": [
  {
   "cell_type": "code",
   "execution_count": 1,
   "metadata": {},
   "outputs": [],
   "source": [
    "import pandas as pd\n",
    "\n",
    "df = pd.read_excel('CTG.xls', 'Raw Data')"
   ]
  },
  {
   "cell_type": "code",
   "execution_count": 4,
   "metadata": {},
   "outputs": [
    {
     "name": "stdout",
     "output_type": "stream",
     "text": [
      "Counter({1.0: 1654, 2.0: 295, 3.0: 176})\n"
     ]
    }
   ],
   "source": [
    "X = df.iloc[1:2126, 3:-2].values\n",
    "Y = df.iloc[1:2126, -1].values\n",
    "\n",
    "from collections import Counter\n",
    "\n",
    "print(Counter(Y))"
   ]
  },
  {
   "cell_type": "code",
   "execution_count": 7,
   "metadata": {},
   "outputs": [],
   "source": [
    "from sklearn.model_selection import train_test_split\n",
    "\n",
    "X_train, X_test, Y_train, Y_test = train_test_split(X, Y, test_size=0.2, random_state = 42)"
   ]
  },
  {
   "cell_type": "code",
   "execution_count": 9,
   "metadata": {},
   "outputs": [
    {
     "name": "stdout",
     "output_type": "stream",
     "text": [
      "{'C': 100000.0, 'gamma': 1e-07}\n",
      "0.9541176470588235\n",
      "The accuracy is: 95.5\n"
     ]
    }
   ],
   "source": [
    "from sklearn.svm import SVC\n",
    "from sklearn.model_selection import GridSearchCV\n",
    "\n",
    "svc = SVC(kernel='rbf')\n",
    "parameters = {\n",
    "    'C': (100, 1e3, 1e4, 1e5),\n",
    "    'gamma': (1e-08, 1e-7, 1e-6, 1e-5)\n",
    "}\n",
    "\n",
    "grid_search = GridSearchCV(svc, parameters, n_jobs=-1, cv=5)\n",
    "grid_search.fit(X_train, Y_train)\n",
    "\n",
    "print(grid_search.best_params_)\n",
    "print(grid_search.best_score_)\n",
    "svc_best = grid_search.best_estimator_\n",
    "accuracy = svc_best.score(X_test, Y_test)\n",
    "print(f\"The accuracy is: {accuracy*100:.1f}\")"
   ]
  },
  {
   "cell_type": "code",
   "execution_count": 10,
   "metadata": {},
   "outputs": [
    {
     "name": "stdout",
     "output_type": "stream",
     "text": [
      "              precision    recall  f1-score   support\n",
      "\n",
      "         1.0       0.96      0.98      0.97       324\n",
      "         2.0       0.89      0.91      0.90        65\n",
      "         3.0       1.00      0.78      0.88        36\n",
      "\n",
      "    accuracy                           0.96       425\n",
      "   macro avg       0.95      0.89      0.92       425\n",
      "weighted avg       0.96      0.96      0.95       425\n",
      "\n"
     ]
    }
   ],
   "source": [
    "from sklearn.metrics import classification_report\n",
    "\n",
    "prediction = svc_best.predict(X_test)\n",
    "report = classification_report(Y_test, prediction)\n",
    "print(report)"
   ]
  },
  {
   "cell_type": "code",
   "execution_count": null,
   "metadata": {},
   "outputs": [],
   "source": []
  }
 ],
 "metadata": {
  "kernelspec": {
   "display_name": "Python 3",
   "language": "python",
   "name": "python3"
  },
  "language_info": {
   "codemirror_mode": {
    "name": "ipython",
    "version": 3
   },
   "file_extension": ".py",
   "mimetype": "text/x-python",
   "name": "python",
   "nbconvert_exporter": "python",
   "pygments_lexer": "ipython3",
   "version": "3.7.6"
  }
 },
 "nbformat": 4,
 "nbformat_minor": 4
}
