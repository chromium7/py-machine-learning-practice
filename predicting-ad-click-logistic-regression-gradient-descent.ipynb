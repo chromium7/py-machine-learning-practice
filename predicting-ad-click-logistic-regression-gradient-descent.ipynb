{
 "cells": [
  {
   "cell_type": "code",
   "execution_count": 1,
   "metadata": {},
   "outputs": [],
   "source": [
    "import pandas as pd\n",
    "\n",
    "n_rows = 300000\n",
    "df = pd.read_csv(\"ad-click.csv\", nrows=n_rows)"
   ]
  },
  {
   "cell_type": "code",
   "execution_count": 2,
   "metadata": {},
   "outputs": [],
   "source": [
    "X = df.drop(['click', 'id', 'hour', 'device_id', 'device_ip'], axis=1).values\n",
    "Y = df['click'].values\n",
    "\n",
    "n_train = 10000\n",
    "X_train = X[:n_train]\n",
    "Y_train = Y[:n_train]\n",
    "X_test = X[n_train:]\n",
    "Y_test = Y[n_train:]\n",
    "\n",
    "from sklearn.preprocessing import OneHotEncoder\n",
    "enc = OneHotEncoder(handle_unknown='ignore')\n",
    "X_train_enc = enc.fit_transform(X_train)\n",
    "X_test_enc = enc.transform(X_test)\n"
   ]
  },
  {
   "cell_type": "code",
   "execution_count": 4,
   "metadata": {},
   "outputs": [
    {
     "data": {
      "text/plain": [
       "'\\nimport timeit\\nstart_time = timeit.default_timer()\\n\\nweights = train_logistic_regression(X_train_enc.toarray(), Y_train, max_iter=10000, learning_rate=0.01, fit_intercept=True)\\n\\nprint(f\"--- {(timeit.default_timer()) - start_time}.3fs seconds..\")\\n'"
      ]
     },
     "execution_count": 4,
     "metadata": {},
     "output_type": "execute_result"
    }
   ],
   "source": [
    "\"\"\"\n",
    "import timeit\n",
    "start_time = timeit.default_timer()\n",
    "\n",
    "weights = train_logistic_regression(X_train_enc.toarray(), Y_train, max_iter=10000, learning_rate=0.01, fit_intercept=True)\n",
    "\n",
    "print(f\"--- {(timeit.default_timer()) - start_time}.3fs seconds..\")\n",
    "\"\"\"\n",
    "\n",
    "# --- 232.756s seconds ---\n",
    "\n",
    "# Using 100,000 samples instead will take 5240.4 seconds, or 1.5 hours\n",
    "# Takes 22 times longer to fit data 10 times the size\n",
    "# How do we handle even larger training datasets?"
   ]
  },
  {
   "cell_type": "code",
   "execution_count": 5,
   "metadata": {},
   "outputs": [],
   "source": [
    "# Training a logistic regression model using stochastic gradient descent\n",
    "\n",
    "# SGD functions compared to normal gradient descent in the other notebook\n",
    "def update_weights_sgd(X_train, y_train, weights, learning_rate):\n",
    "    \"\"\"\n",
    "    One weight update iteration: moving weights by one step based on each individual sample\n",
    "    Args:\n",
    "    X_train, y_train (numpy.ndarray, training data set)\n",
    "    weights (numpy.ndarray)\n",
    "    learning_rate (float)\n",
    "    Returns:\n",
    "    numpy.ndarray, updated weights\n",
    "    \"\"\"\n",
    "    for x_each, y_each in zip(X_train, y_train):\n",
    "        prediction = compute_prediction(X_each, weights)\n",
    "        weights_delta = X_each.T * (y_each - prediction)\n",
    "        weights += learning_rate * weights_delta\n",
    "    return weights"
   ]
  },
  {
   "cell_type": "code",
   "execution_count": null,
   "metadata": {},
   "outputs": [],
   "source": [
    "def train_logistic_regression(X_train, y_train, max_iter, learning_rate, fit_intercept=False):\n",
    "    \"\"\"\n",
    "    Train a logistic regression model via SGD\n",
    "    args:\n",
    "        X_train, y_train (numpy.ndarray, training data set)\n",
    "        max_iter (int, number of iterations)\n",
    "        learning_rate (float)\n",
    "        fit_intercept (bool, with an intercept of w0 or not)\n",
    "        Returns:\n",
    "        numpy.ndarray, learned weights\n",
    "    \"\"\"\n",
    "    if fit_intercept:\n",
    "        intercept = np.ones((X_train.shape[0], 1))\n",
    "        X_train = np.hstack((intercept, X_train))\n",
    "    weights = np.zeros(X_train.shape[1])\n",
    "    for iteration in range(max_iter):\n",
    "        pass"
   ]
  }
 ],
 "metadata": {
  "kernelspec": {
   "display_name": "Python 3",
   "language": "python",
   "name": "python3"
  },
  "language_info": {
   "codemirror_mode": {
    "name": "ipython",
    "version": 3
   },
   "file_extension": ".py",
   "mimetype": "text/x-python",
   "name": "python",
   "nbconvert_exporter": "python",
   "pygments_lexer": "ipython3",
   "version": "3.7.6"
  }
 },
 "nbformat": 4,
 "nbformat_minor": 4
}
